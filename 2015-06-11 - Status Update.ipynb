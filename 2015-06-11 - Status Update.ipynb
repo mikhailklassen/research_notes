{
 "cells": [
  {
   "cell_type": "markdown",
   "metadata": {},
   "source": [
    "# June 11, 2015"
   ]
  },
  {
   "cell_type": "markdown",
   "metadata": {},
   "source": [
    "# Project Status Update"
   ]
  },
  {
   "cell_type": "markdown",
   "metadata": {},
   "source": [
    "## Summary\n",
    "\n",
    "- Resolved issues in FLASH4 RadTrans routines that had been resulting in either pockets of cold gas or a shutdown in accretion onto the sink particle\n",
    "- These problems were related to the updated radiation diffusion equation\n",
    "\n",
    "$$\n",
    "\\frac{E_r^{n+1} - E_r^{n}}{\\Delta t} - \\nabla \\cdot \\left( D^{n} \\nabla E_r^{n+1}\\right) + \\kappa \\rho c \\left[\\frac{ \\rho c_V T^{n}}{\\rho c_V T^{n} +  4 \\alpha a_R \\left(T^{n}\\right)^4}\\right] E_r^{n+1}\n",
    "  = \\kappa \\rho c a_R \\left(T^{n}\\right)^4 \\left[\\frac{\\rho c_V T^{n} - 4 \\Delta t \\nabla \\cdot F_*}{\\rho c_V T^{n} + 4 \\alpha a_R \\left(T^{n}\\right)^4}      \\right]\n",
    "$$\n",
    "\n",
    "The terms in square braces are the \"correction factors\" that result from the linearization of the temperature update equation. A derivation is given in our code paper ([Klassen et al. 2015](http://adsabs.harvard.edu/abs/2014ApJ...797....4K)).\n",
    "\n",
    "A sign error in the irradiation component, $\\nabla \\cdot F_*$, of the correction factor for the emission term (right hand side of the above equation) resulted in strong cooling near the sink particle. This was not discovered until recently. I had misinterpreted the cooling as a problem with how FLASH's diffusion solver was handling the correction factors. In comparing to the FLASH user guide, the coupled energy equations were written with an explicit temperature term, that is, the temperature at time index *n*, whereas we were using a linearized temperature updated to time index *n+1*. Moreover, the matter-radiation coupling test was failing and, concerned about this, I set the correction factors equal to 1.0 and ran further tests.\n",
    "\n",
    "Meanwhile, at the FLASH Center at the University of Chicago, Klaus Weide has become convinced that our correction factors are indeed the way to go and should be fully compatible with FLASH's diffusion routines. After closer inspection, I discovered the sign error. Moreover, we are able to run the energy-coupling test without problems, likely because other bugs were tracked down and corrected.\n",
    "\n",
    "- Klaus Weide and Manos Chatzopoulos of the FLASH Center delivered to us a modified unsplit hydro solver that includes the $\\lambda$ flux limiter and radiation energy gradients in calculating the diffuse radiation pressure hydro terms.\n",
    "- Under this solver, we were able to run the 1D radiative shock test and get much better agreement on the pre-shock temperature. If you recall, in our code paper, this was our worst test result.\n",
    "- Klaus also created a modified equation of state (EOS) routine that throws out one of the two matter species in FLASH4. If you recall, the original FLD code was written for high-energy-density plasmas and there are two matter species: electrons and ions. The ions carry the momentum and the electrons interact with the radiation field. A separate routine couples the two species together and they exchange energy in a time-dependent way. This was always irritating to us because we are principally concerned with only a single matter species and the HeatExchange module is wasted computation.\n",
    "\n",
    "Appendix A in [Klassen et al. 2015](http://adsabs.harvard.edu/abs/2014ApJ...797....4K) explains how we forcibly had to equilibrate the two matter species so that we could have a single quasineutral fluid.\n",
    "\n",
    "With the new EOS, this is a moot point. The \"electrons\" are now our only matter species. Their mean molecular weight is set with a runtime parameter. The fluid behaves just as we want it to.\n",
    "\n",
    "- Dust evaporation has been added following Section 2.6 in [Kuiper et al. 2010](http://adsabs.harvard.edu/cgi-bin/bib_query?arXiv:1008.4516)\n"
   ]
  },
  {
   "cell_type": "markdown",
   "metadata": {},
   "source": [
    "## Remaining Issues\n",
    "\n",
    "- We linearized the temperature update term:\n",
    "\n",
    "$$\n",
    "\\left(T^{n+1}\\right)^4 = (T^n)^4\\left(1+\\frac{T^{n+1} - T^n}{T^n}\\right)^4 \\approx 4\\left(T^n\\right)^3 T^{n+1} - 3\\left(T^n\\right)^4.\n",
    "$$\n",
    "\n",
    "- As a result of this choice, when the change in temperature from one time step to the next becomes large, then the higher-order terms dropped from this approximation become important and our temperatures can become inaccurate.\n",
    "- The expansion is a binomial expansion of the form\n",
    "\n",
    "$$\n",
    "(1+x)^4 = 1 + 4x + 6x^2 + 4x^3 + x^4,\n",
    "$$\n",
    "where\n",
    "$$\n",
    "x = \\frac{\\Delta T}{T} = \\frac{T_{new}-T_{old}}{T_{old}}\n",
    "$$\n",
    "\n",
    "- The reason we keep only the linear term is that we use it to write the temperature update equation:\n",
    "\n",
    "$$\n",
    "T^{n+1} = \\frac{3 a_R \\alpha \\left(T^n\\right)^4 + \\rho c_V T^n + \\alpha E_r^{n+1} - \\Delta t \\nabla \\cdot \\vec{F}_*}{\\rho c_V + 4 a_R \\alpha \\left(T^n\\right)^3},\n",
    "$$\n",
    "where $\\alpha \\equiv \\kappa_P^n \\rho c \\Delta t$.\n",
    "\n",
    "Keeping higher-order terms would mean a root-solve operation would need to be performed at every cell for every timestep in order to update the temperature.\n",
    "\n",
    "- The second order term, $\\mathcal{O}2 = 6(\\Delta T/T)^2$, becomes an appreciable fraction (0.1) of the first order term, $\\mathcal{O}1 = 4(\\Delta T/T)$ for temperature changes as small as 6.7%.\n",
    "\n",
    "- I have modified the FLASH timestep limiter to check for temperature changes that exceed this criterion and reduce the timestep appropriately. What I found was that the timestep was often made unrealistically small. In particular, with strong irradiation by the accreting source, timesteps can be reduced below even $10^6$ seconds.\n",
    "\n",
    "- Some of the latest tests have been run using fixed timesteps above the \"safety\" criterion, at timestep sizes ranging between $10^7$ and $5 \\times 10^7$ seconds.\n",
    "\n",
    "- Under these conditions, we find temperatures in some cells can exceed 10^4 K.\n",
    "\n",
    "### Timescales and subcycling\n",
    "\n",
    "There are several relevant physical timescales:\n",
    "\n",
    "- Matter-Radiation energy exchange (coupling) timescale:\n",
    "\n",
    "$$\n",
    "t_{exch} = \\frac{1}{\\kappa_P \\rho c}\n",
    "$$\n",
    "\n",
    "- Diffusion timescale:\n",
    "\n",
    "$$\n",
    "t_{diff} = \\frac{(\\Delta x)^2}{\\frac{c}{3.0 \\kappa_R \\rho}}\n",
    "$$\n",
    "\n",
    "- Sonic flow:\n",
    "\n",
    "$$\n",
    "t_{flow} = \\frac{\\Delta x}{c_s},\n",
    "$$\n",
    "where $c_s$ is the sound speed.\n",
    "\n",
    "In practice, the first two are the most relevant. In high-density regions, $t_{exch}$ tends to be much shorter than other timescales. In these regions, I have implemented **temperature update subcycling**. I have FLASH check whether the temperature update will be outside of a \"safe\" limit for our linearization. Then I check whether $t_{exch}$ is much shorter than the other timescales. Then I calcualate a safe timestep size and repeatedly apply the temperature update equation with the subcycling timestep until either I reach the global timestep or the temperature changes less than 1% between iterations.\n",
    "\n",
    "This subcycling approach helps partially circumvent the problem of FLASH not having adaptive timestepping (i.e. where different parts of the grid can be updated with different timestep sizes).\n",
    "\n",
    "The problem is that with dust evaporation, the diffusion timestep can become comparably short relative to the energy coupling timestep. In this regime, it may not be physically accurate to apply subcycling because you are not accounting for radiation energy diffusing into or out of a cell. It is in these cells that we are seeing temperatures exceed $10^4$ K."
   ]
  },
  {
   "cell_type": "markdown",
   "metadata": {},
   "source": [
    "# Results"
   ]
  },
  {
   "cell_type": "markdown",
   "metadata": {},
   "source": [
    "## Figure 1: Density\n",
    "<img src=\"./jun/density.png\" width=\"800px\"/>"
   ]
  },
  {
   "cell_type": "markdown",
   "metadata": {},
   "source": [
    "## Figure 2: Velocity Structure"
   ]
  },
  {
   "cell_type": "markdown",
   "metadata": {},
   "source": [
    "<img src=\"jun/velocities_edgeon.png\" width=\"400px\" style=\"float:left;\"/>\n",
    "<img src=\"jun/velocities_faceon.png\" width=\"400px\"/>"
   ]
  },
  {
   "cell_type": "markdown",
   "metadata": {},
   "source": [
    "## Figure 3: Temperature"
   ]
  },
  {
   "cell_type": "markdown",
   "metadata": {},
   "source": [
    "<img src=\"jun/temperature.png\" width=\"800px\"/>"
   ]
  },
  {
   "cell_type": "markdown",
   "metadata": {},
   "source": [
    "## Figure 4: Temperature Face-On View with Velocities"
   ]
  },
  {
   "cell_type": "markdown",
   "metadata": {},
   "source": [
    "<img src=\"jun/temperature_faceon.png\" width=\"800px\"/>"
   ]
  },
  {
   "cell_type": "markdown",
   "metadata": {},
   "source": [
    "## Figure 5: Radial Temperature Profile"
   ]
  },
  {
   "cell_type": "markdown",
   "metadata": {},
   "source": [
    "<img src=\"jun/radial_temperature_profile.png\" width=\"800px\"/>"
   ]
  },
  {
   "cell_type": "markdown",
   "metadata": {},
   "source": [
    "## Figure 6: Planck & Rosseland Mean Opacities\n",
    "Shown below are the Planck & Rosseland mean opacities with contours of optical depth $\\tau$.\n",
    "\n",
    "<img src=\"jun/opacity_planck.png\" width=\"400px\" style=\"float:left;\"/>\n",
    "<img src=\"jun/opacity_rosseland.png\" width=\"400px\"/>"
   ]
  },
  {
   "cell_type": "markdown",
   "metadata": {},
   "source": [
    "## Figure 7: Optical Depth\n",
    "<img src=\"jun/optical_depth.png\" width=\"800px\">\n",
    "The above is with contours of density.\n",
    "<img src=\"jun/optical_depth_contoured.png\" width=\"800px\"/>\n",
    "This image shows contours of optical depth."
   ]
  },
  {
   "cell_type": "markdown",
   "metadata": {},
   "source": [
    "## Figure 8: Dust Fraction\n",
    "<img src=\"jun/dust_fraction.png\" width=\"800px\"/>"
   ]
  },
  {
   "cell_type": "markdown",
   "metadata": {},
   "source": [
    "## Figure 9: Irradiation\n",
    "<img src=\"jun/irad.png\" width=\"800px\"/>"
   ]
  },
  {
   "cell_type": "markdown",
   "metadata": {},
   "source": [
    "## Figure 10: Matter-Radiation Coupling Timescale\n",
    "<img src=\"jun/matter-radiation_coupling.png\" width=\"800px\"/>\n",
    "\n",
    "## Figure 11: Diffusion Timescale\n",
    "<img src=\"jun/diffusion_time.png\" width=\"800px\"/>\n",
    "\n",
    "## Figure 12: Timescale Ratio\n",
    "$$\n",
    "t_{exch}/t_{diff}\n",
    "$$\n",
    "<img src=\"jun/timescale_ratio.png\" width=\"800px\"/>\n",
    "\n",
    "## Figure 13: Error Ratio\n",
    "<img src=\"jun/relo2corr.png\" width=\"800px\"/>"
   ]
  },
  {
   "cell_type": "markdown",
   "metadata": {},
   "source": [
    "## Figure 13: Toomre Q Parameter\n",
    "<img src=\"jun/toomreQ41.png\" width=\"800px\"/>\n",
    "The above shows the Toomre Q parameter at the same time as all the previous figures, at about 13000 years of evolution. The disk is still highly stable.\n",
    "<img src=\"jun/fast_ToomreQ.png\" width=\"800px\"/>\n",
    "The second image is of a \"fast\" simulation (dtmin = 5.0e7 seconds), evolved to 5.1e11 seconds, or 16161.3 years."
   ]
  },
  {
   "cell_type": "markdown",
   "metadata": {},
   "source": [
    "## Figure 14: Sink Evolution\n",
    "<img src=\"jun/sink_evolution.png\" width=\"1000px\"/>"
   ]
  }
 ],
 "metadata": {
  "kernelspec": {
   "display_name": "Python 2",
   "language": "python",
   "name": "python2"
  },
  "language_info": {
   "codemirror_mode": {
    "name": "ipython",
    "version": 2
   },
   "file_extension": ".py",
   "mimetype": "text/x-python",
   "name": "python",
   "nbconvert_exporter": "python",
   "pygments_lexer": "ipython2",
   "version": "2.7.9"
  }
 },
 "nbformat": 4,
 "nbformat_minor": 0
}
